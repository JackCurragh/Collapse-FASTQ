{
 "cells": [
  {
   "cell_type": "code",
   "execution_count": 1,
   "metadata": {},
   "outputs": [],
   "source": [
    "import pandas as pd\n"
   ]
  },
  {
   "cell_type": "code",
   "execution_count": 23,
   "metadata": {},
   "outputs": [],
   "source": [
    "def load_fasta(fasta_file, name):\n",
    "    fasta_df = pd.DataFrame(pd.read_csv(\n",
    "        fasta_file, \n",
    "        header=None).values.reshape(-1, 2), columns=['read_id', 'seq'])\n",
    "    fasta_df[name] = fasta_df['read_id'].str.split('_x').str[-1].astype(int)\n",
    "    fasta_df.drop('read_id', axis=1, inplace=True)\n",
    "    return fasta_df"
   ]
  },
  {
   "cell_type": "code",
   "execution_count": 18,
   "metadata": {},
   "outputs": [],
   "source": [
    "core_df = fasta_df"
   ]
  },
  {
   "cell_type": "code",
   "execution_count": 19,
   "metadata": {},
   "outputs": [
    {
     "data": {
      "text/html": [
       "<div>\n",
       "<style scoped>\n",
       "    .dataframe tbody tr th:only-of-type {\n",
       "        vertical-align: middle;\n",
       "    }\n",
       "\n",
       "    .dataframe tbody tr th {\n",
       "        vertical-align: top;\n",
       "    }\n",
       "\n",
       "    .dataframe thead th {\n",
       "        text-align: right;\n",
       "    }\n",
       "</style>\n",
       "<table border=\"1\" class=\"dataframe\">\n",
       "  <thead>\n",
       "    <tr style=\"text-align: right;\">\n",
       "      <th></th>\n",
       "      <th>read_id</th>\n",
       "      <th>seq</th>\n",
       "      <th>count</th>\n",
       "    </tr>\n",
       "  </thead>\n",
       "  <tbody>\n",
       "    <tr>\n",
       "      <th>0</th>\n",
       "      <td>&gt;seq1_x15121</td>\n",
       "      <td>ACGTACGCAGTTTTATCCGGTAAAGCGAATGA</td>\n",
       "      <td>15121</td>\n",
       "    </tr>\n",
       "    <tr>\n",
       "      <th>1</th>\n",
       "      <td>&gt;seq2_x203</td>\n",
       "      <td>TACGCCGCGACGAGTAGGAGGGCCGCTGCGGTG</td>\n",
       "      <td>203</td>\n",
       "    </tr>\n",
       "    <tr>\n",
       "      <th>2</th>\n",
       "      <td>&gt;seq3_x13655</td>\n",
       "      <td>TAAAATTTAAGGAGAGGGTATCAAGCACATTAA</td>\n",
       "      <td>13655</td>\n",
       "    </tr>\n",
       "    <tr>\n",
       "      <th>3</th>\n",
       "      <td>&gt;seq4_x20</td>\n",
       "      <td>GGGAGCCCCGGGGAGAGTTCTCTTTTCTT</td>\n",
       "      <td>20</td>\n",
       "    </tr>\n",
       "    <tr>\n",
       "      <th>4</th>\n",
       "      <td>&gt;seq5_x19535</td>\n",
       "      <td>TAGTGAGGCCCTCGGATCGGCCCCGCCGGGG</td>\n",
       "      <td>19535</td>\n",
       "    </tr>\n",
       "    <tr>\n",
       "      <th>...</th>\n",
       "      <td>...</td>\n",
       "      <td>...</td>\n",
       "      <td>...</td>\n",
       "    </tr>\n",
       "    <tr>\n",
       "      <th>2290216</th>\n",
       "      <td>&gt;seq2290217_x1</td>\n",
       "      <td>ANCGCAGGTGTCCTAAGGCGAGCTCAGGGAGGA</td>\n",
       "      <td>1</td>\n",
       "    </tr>\n",
       "    <tr>\n",
       "      <th>2290217</th>\n",
       "      <td>&gt;seq2290218_x1</td>\n",
       "      <td>GAGAAGGTCAGCGTCCACTGTCCTGTGTTT</td>\n",
       "      <td>1</td>\n",
       "    </tr>\n",
       "    <tr>\n",
       "      <th>2290218</th>\n",
       "      <td>&gt;seq2290219_x1</td>\n",
       "      <td>TNCGCAGTTTTATCCGGTAAAGCGAATGATTAG</td>\n",
       "      <td>1</td>\n",
       "    </tr>\n",
       "    <tr>\n",
       "      <th>2290219</th>\n",
       "      <td>&gt;seq2290220_x1</td>\n",
       "      <td>TNGCGTTGATTAAGGCTACACTGACTGGCTCAGCG</td>\n",
       "      <td>1</td>\n",
       "    </tr>\n",
       "    <tr>\n",
       "      <th>2290220</th>\n",
       "      <td>&gt;seq2290221_x1</td>\n",
       "      <td>CTGCAGTTAAAAAGCTCGTAGTTGNANCTTGG</td>\n",
       "      <td>1</td>\n",
       "    </tr>\n",
       "  </tbody>\n",
       "</table>\n",
       "<p>2290221 rows × 3 columns</p>\n",
       "</div>"
      ],
      "text/plain": [
       "                read_id                                  seq  count\n",
       "0          >seq1_x15121     ACGTACGCAGTTTTATCCGGTAAAGCGAATGA  15121\n",
       "1            >seq2_x203    TACGCCGCGACGAGTAGGAGGGCCGCTGCGGTG    203\n",
       "2          >seq3_x13655    TAAAATTTAAGGAGAGGGTATCAAGCACATTAA  13655\n",
       "3             >seq4_x20        GGGAGCCCCGGGGAGAGTTCTCTTTTCTT     20\n",
       "4          >seq5_x19535      TAGTGAGGCCCTCGGATCGGCCCCGCCGGGG  19535\n",
       "...                 ...                                  ...    ...\n",
       "2290216  >seq2290217_x1    ANCGCAGGTGTCCTAAGGCGAGCTCAGGGAGGA      1\n",
       "2290217  >seq2290218_x1       GAGAAGGTCAGCGTCCACTGTCCTGTGTTT      1\n",
       "2290218  >seq2290219_x1    TNCGCAGTTTTATCCGGTAAAGCGAATGATTAG      1\n",
       "2290219  >seq2290220_x1  TNGCGTTGATTAAGGCTACACTGACTGGCTCAGCG      1\n",
       "2290220  >seq2290221_x1     CTGCAGTTAAAAAGCTCGTAGTTGNANCTTGG      1\n",
       "\n",
       "[2290221 rows x 3 columns]"
      ]
     },
     "execution_count": 19,
     "metadata": {},
     "output_type": "execute_result"
    }
   ],
   "source": [
    "core_df"
   ]
  },
  {
   "cell_type": "code",
   "execution_count": 22,
   "metadata": {},
   "outputs": [
    {
     "name": "stdout",
     "output_type": "stream",
     "text": [
      "DRR395081\n",
      "/data1/Jack/projects/Collapse-FASTQ/data/RiboSeqOrg/collapsed_fastq/PRJDB10544/DRR395081_1_clipped_collapsed.fastq.gz\n",
      "DRR395086\n",
      "/data1/Jack/projects/Collapse-FASTQ/data/RiboSeqOrg/collapsed_fastq/PRJDB10544/DRR395086_1_clipped_collapsed.fastq.gz\n",
      "ERR2382631\n",
      "/data1/Jack/projects/Collapse-FASTQ/data/RiboSeqOrg/collapsed_fastq/PRJDB10544/ERR2382631_1_clipped_collapsed.fastq.gz\n",
      "ERR2736134\n",
      "/data1/Jack/projects/Collapse-FASTQ/data/RiboSeqOrg/collapsed_fastq/PRJDB10544/ERR2736134_clipped_collapsed.fastq.gz\n",
      "ERR2003535\n",
      "/data1/Jack/projects/Collapse-FASTQ/data/RiboSeqOrg/collapsed_fastq/PRJDB10544/ERR2003535_1_clipped_collapsed.fastq.gz\n",
      "DRR244663\n",
      "/data1/Jack/projects/Collapse-FASTQ/data/RiboSeqOrg/collapsed_fastq/PRJDB10544/DRR244663_1_clipped_collapsed.fastq.gz\n",
      "DRR428605\n",
      "/data1/Jack/projects/Collapse-FASTQ/data/RiboSeqOrg/collapsed_fastq/PRJDB10544/DRR428605_1_clipped_collapsed.fastq.gz\n",
      "DRR277031\n",
      "/data1/Jack/projects/Collapse-FASTQ/data/RiboSeqOrg/collapsed_fastq/PRJDB10544/DRR277031_1_clipped_collapsed.fastq.gz\n",
      "DRR428603\n",
      "/data1/Jack/projects/Collapse-FASTQ/data/RiboSeqOrg/collapsed_fastq/PRJDB10544/DRR428603_1_clipped_collapsed.fastq.gz\n"
     ]
    }
   ],
   "source": [
    "import os\n",
    "\n",
    "for subdir, dirs, files in os.walk('/data1/Jack/projects/Collapse-FASTQ/data/RiboSeqOrg/collapsed_fastq/PRJDB10544'):\n",
    "    for file in files:\n",
    "        #print os.path.join(subdir, file)\n",
    "        filepath = subdir + os.sep + file\n",
    "        name = file.split('_')[0]\n",
    "\n",
    "        if filepath.endswith(\"fastq.gz\"):\n",
    "            print (filepath)\n",
    "            fasta_df = load_fasta(filepath, name)\n",
    "            core_df = pd.merge(core_df, fasta_df, on='seq', how='outer')\n"
   ]
  },
  {
   "cell_type": "code",
   "execution_count": null,
   "metadata": {},
   "outputs": [],
   "source": [
    "core_df.head()"
   ]
  },
  {
   "cell_type": "code",
   "execution_count": 12,
   "metadata": {},
   "outputs": [],
   "source": [
    "fastq_df = pd.DataFrame(pd.read_csv('/data1/Jack/projects/Collapse-FASTQ/data/SRR5223048.fastq',\n",
    "                                    header=None).values.reshape(-1, 4), columns=['read_id', 'seq', 'plus', 'qual'])"
   ]
  },
  {
   "cell_type": "code",
   "execution_count": 13,
   "metadata": {},
   "outputs": [
    {
     "data": {
      "text/plain": [
       "seq\n",
       "CCTTAGGCAACCTGGTGGTCCCCCGCTCCCGGGAGGTCACCATATTGATG    145114\n",
       "GGGGTCTCGCTATGTTGCCCAGGCTGGAGTGCAGTGGCTATTCACAGGCG    133417\n",
       "CCAGGCTGGAGTGCAGTGGCTATTCACAGGCGCGATCCCACTACTGATCA    131586\n",
       "CGGGGTCTCGCTATGTTGCCCAGGCTGGAGTGCAGTGGCTATTCACAGGC    119423\n",
       "CTCCGTTTCCGACCTGGGCCGGTTCACCCCTCCTTAGGCAACCTGGTGGT    112996\n",
       "                                                       ...  \n",
       "GAGGAAGAGCACAAATACTCGGCTGAATGAGGTATCGCAAAAGACTGCAT         1\n",
       "GTCCAGGATGCTGAGAAGGCTGTTGACGCTGTCCCCAGGAACCACTTCCT         1\n",
       "GTTTTAGGGAAAATCTTACACATGGCCTCATCTTGCAATTTAGGGGAAAG         1\n",
       "GTCTGACAGGTTCACGGTTCTTATAAATATTCTCTACAACAGTAATACCT         1\n",
       "GTAGCATTACTATCATTGGGAACACTATTTCGTCAAACTGTAAAGTGCAA         1\n",
       "Name: count, Length: 11457803, dtype: int64"
      ]
     },
     "execution_count": 13,
     "metadata": {},
     "output_type": "execute_result"
    }
   ],
   "source": [
    "fastq_df['seq'].value_counts()"
   ]
  }
 ],
 "metadata": {
  "kernelspec": {
   "display_name": "Python 3",
   "language": "python",
   "name": "python3"
  },
  "language_info": {
   "codemirror_mode": {
    "name": "ipython",
    "version": 3
   },
   "file_extension": ".py",
   "mimetype": "text/x-python",
   "name": "python",
   "nbconvert_exporter": "python",
   "pygments_lexer": "ipython3",
   "version": "3.10.11"
  },
  "orig_nbformat": 4
 },
 "nbformat": 4,
 "nbformat_minor": 2
}
